{
 "cells": [
  {
   "cell_type": "code",
   "execution_count": null,
   "metadata": {},
   "outputs": [
    {
     "ename": "TypeError",
     "evalue": "'int' object is not subscriptable",
     "output_type": "error",
     "traceback": [
      "\u001b[1;31m---------------------------------------------------------------------------\u001b[0m",
      "\u001b[1;31mTypeError\u001b[0m                                 Traceback (most recent call last)",
      "Cell \u001b[1;32mIn[1], line 8\u001b[0m\n\u001b[0;32m      4\u001b[0m \u001b[38;5;28;01mfrom\u001b[39;00m \u001b[38;5;21;01mgrids\u001b[39;00m\u001b[38;5;21;01m.\u001b[39;00m\u001b[38;5;21;01msin\u001b[39;00m \u001b[38;5;28;01mimport\u001b[39;00m map_old_to_new\n\u001b[0;32m      7\u001b[0m \u001b[38;5;66;03m#Recommender.process(1, Area.SOFTWARE_DEVELOPMENT_AND_ENGINEERING, [], Course.SISTEMAS_DE_INFORMACAO)\u001b[39;00m\n\u001b[1;32m----> 8\u001b[0m \u001b[43mmap_old_to_new\u001b[49m\u001b[43m(\u001b[49m\u001b[43m)\u001b[49m\n",
      "File \u001b[1;32mc:\\Users\\leonardo.fernandes\\Desktop\\Graphs\\subject-grid-recommender\\grids\\sin.py:87\u001b[0m, in \u001b[0;36mmap_old_to_new\u001b[1;34m()\u001b[0m\n\u001b[0;32m     84\u001b[0m subjects \u001b[38;5;241m=\u001b[39m []\n\u001b[0;32m     85\u001b[0m \u001b[38;5;28;01mfor\u001b[39;00m old \u001b[38;5;129;01min\u001b[39;00m getGrafoSIN():\n\u001b[0;32m     86\u001b[0m     subject \u001b[38;5;241m=\u001b[39m Subject(\n\u001b[1;32m---> 87\u001b[0m         cod\u001b[38;5;241m=\u001b[39m\u001b[38;5;28mstr\u001b[39m(\u001b[43mold\u001b[49m\u001b[43m[\u001b[49m\u001b[38;5;124;43m\"\u001b[39;49m\u001b[38;5;124;43mCódigo\u001b[39;49m\u001b[38;5;124;43m\"\u001b[39;49m\u001b[43m]\u001b[49m),\n\u001b[0;32m     88\u001b[0m         name\u001b[38;5;241m=\u001b[39mold[\u001b[38;5;124m\"\u001b[39m\u001b[38;5;124mNome\u001b[39m\u001b[38;5;124m\"\u001b[39m],\n\u001b[0;32m     89\u001b[0m         area\u001b[38;5;241m=\u001b[39mArea\u001b[38;5;241m.\u001b[39mSOFTWARE_DEVELOPMENT_AND_ENGINEERING \u001b[38;5;28;01mif\u001b[39;00m old[\u001b[38;5;124m\"\u001b[39m\u001b[38;5;124marea\u001b[39m\u001b[38;5;124m\"\u001b[39m] \u001b[38;5;241m==\u001b[39m \u001b[38;5;124m\"\u001b[39m\u001b[38;5;124mEngenharia e Desenvolvimento de Software\u001b[39m\u001b[38;5;124m\"\u001b[39m \u001b[38;5;28;01melse\u001b[39;00m \u001b[38;5;28;01mNone\u001b[39;00m,\n\u001b[0;32m     90\u001b[0m         default_semester\u001b[38;5;241m=\u001b[39mold[\u001b[38;5;124m\"\u001b[39m\u001b[38;5;124msemestre\u001b[39m\u001b[38;5;124m\"\u001b[39m],\n\u001b[0;32m     91\u001b[0m         \u001b[38;5;28mtype\u001b[39m\u001b[38;5;241m=\u001b[39mSubjectType\u001b[38;5;241m.\u001b[39mREQUIRED \u001b[38;5;28;01mif\u001b[39;00m old[\u001b[38;5;124m\"\u001b[39m\u001b[38;5;124mTipo\u001b[39m\u001b[38;5;124m\"\u001b[39m] \u001b[38;5;241m==\u001b[39m \u001b[38;5;124m\"\u001b[39m\u001b[38;5;124mObrigatoria\u001b[39m\u001b[38;5;124m\"\u001b[39m \u001b[38;5;28;01melse\u001b[39;00m SubjectType\u001b[38;5;241m.\u001b[39mELECTIVE,\n\u001b[0;32m     92\u001b[0m         credit\u001b[38;5;241m=\u001b[39mold[\u001b[38;5;124m\"\u001b[39m\u001b[38;5;124mCrédito\u001b[39m\u001b[38;5;124m\"\u001b[39m],\n\u001b[0;32m     93\u001b[0m         prerequisites\u001b[38;5;241m=\u001b[39mold[\u001b[38;5;124m\"\u001b[39m\u001b[38;5;124mPré-Requisitos\u001b[39m\u001b[38;5;124m\"\u001b[39m],\n\u001b[0;32m     94\u001b[0m     )\n\u001b[0;32m     95\u001b[0m     subjects\u001b[38;5;241m.\u001b[39mappend(subject)\n\u001b[0;32m     96\u001b[0m     \u001b[38;5;28mprint\u001b[39m(json\u001b[38;5;241m.\u001b[39mdumps(subjects))\n",
      "\u001b[1;31mTypeError\u001b[0m: 'int' object is not subscriptable"
     ]
    }
   ],
   "source": [
    "from recommender.recommender import Recommender\n",
    "from data_structures.subject import Area\n",
    "from data_structures.course import Course\n",
    "\n",
    "\n",
    "Recommender.process(1, Area.SOFTWARE_DEVELOPMENT_AND_ENGINEERING, [], Course.SISTEMAS_DE_INFORMACAO)\n"
   ]
  }
 ],
 "metadata": {
  "kernelspec": {
   "display_name": "Python 3",
   "language": "python",
   "name": "python3"
  },
  "language_info": {
   "codemirror_mode": {
    "name": "ipython",
    "version": 3
   },
   "file_extension": ".py",
   "mimetype": "text/x-python",
   "name": "python",
   "nbconvert_exporter": "python",
   "pygments_lexer": "ipython3",
   "version": "3.10.7"
  }
 },
 "nbformat": 4,
 "nbformat_minor": 2
}
